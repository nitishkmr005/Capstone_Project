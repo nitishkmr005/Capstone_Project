{
  "nbformat": 4,
  "nbformat_minor": 0,
  "metadata": {
    "colab": {
      "name": "Final_Data_Extraction_for_Pathology_Classification_Project.ipynb",
      "provenance": [],
      "collapsed_sections": [],
      "toc_visible": true
    },
    "kernelspec": {
      "name": "python3",
      "display_name": "Python 3"
    },
    "accelerator": "TPU"
  },
  "cells": [
    {
      "cell_type": "markdown",
      "metadata": {
        "id": "TVMve07kEYim"
      },
      "source": [
        "# Mount Google Drive and copy data to drive manually"
      ]
    },
    {
      "cell_type": "code",
      "metadata": {
        "id": "1gNJ7uWPDg-2"
      },
      "source": [
        "from google.colab import drive"
      ],
      "execution_count": 1,
      "outputs": []
    },
    {
      "cell_type": "code",
      "metadata": {
        "colab": {
          "base_uri": "https://localhost:8080/"
        },
        "id": "AOzsoso0DlIM",
        "outputId": "00eae102-6ca7-4fb2-c100-004d5e83d621"
      },
      "source": [
        "drive.mount('/content/drive/')"
      ],
      "execution_count": 2,
      "outputs": [
        {
          "output_type": "stream",
          "text": [
            "Mounted at /content/drive/\n"
          ],
          "name": "stdout"
        }
      ]
    },
    {
      "cell_type": "markdown",
      "metadata": {
        "id": "XDpqRJRcU2Ja"
      },
      "source": [
        "# Download 45.7GB Data from nihcc links "
      ]
    },
    {
      "cell_type": "markdown",
      "metadata": {
        "id": "cTQ7QOxTm57_"
      },
      "source": [
        "NIH dataset = 112120 chest x-rays with 14 pathology labels from\r\n",
        "\r\n",
        "https://nihcc.app.box.com/v/ChestXray-NIHCC"
      ]
    },
    {
      "cell_type": "code",
      "metadata": {
        "id": "RRTCk6CoNYHO",
        "colab": {
          "base_uri": "https://localhost:8080/"
        },
        "outputId": "ea5f2c34-c2ee-4781-bbf8-2607b8da8d1f"
      },
      "source": [
        "import urllib.request\n",
        "from tqdm import tqdm\n",
        "links = [\n",
        "    'https://nihcc.box.com/shared/static/vfk49d74nhbxq3nqjg0900w5nvkorp5c.gz',\n",
        "    'https://nihcc.box.com/shared/static/i28rlmbvmfjbl8p2n3ril0pptcmcu9d1.gz',\n",
        "    'https://nihcc.box.com/shared/static/f1t00wrtdk94satdfb9olcolqx20z2jp.gz',\n",
        "\t'https://nihcc.box.com/shared/static/0aowwzs5lhjrceb3qp67ahp0rd1l1etg.gz',\n",
        "    'https://nihcc.box.com/shared/static/v5e3goj22zr6h8tzualxfsqlqaygfbsn.gz',\n",
        "\t\n",
        "\t'https://nihcc.box.com/shared/static/asi7ikud9jwnkrnkj99jnpfkjdes7l6l.gz',\n",
        "\t'https://nihcc.box.com/shared/static/jn1b4mw4n6lnh74ovmcjb8y48h8xj07n.gz',\n",
        "    'https://nihcc.box.com/shared/static/tvpxmn7qyrgl0w8wfh9kqfjskv6nmm1j.gz',\n",
        "\t'https://nihcc.box.com/shared/static/upyy3ml7qdumlgk2rfcvlb9k6gvqq2pj.gz',\n",
        "\t'https://nihcc.box.com/shared/static/l6nilvfa9cg3s28tqv1qc1olm3gnz54p.gz',\n",
        "\t'https://nihcc.box.com/shared/static/hhq8fkdgvcari67vfhs7ppg2w6ni4jze.gz',\n",
        "\t'https://nihcc.box.com/shared/static/ioqwiy20ihqwyr8pf4c24eazhh281pbu.gz'\n",
        "]\n",
        "for idx, link in tqdm(enumerate(links)):\n",
        "    fn = 'images_%02d.tar.gz' % (idx+1)\n",
        "    print ('downloading', fn, '...')\n",
        "    urllib.request.urlretrieve(link, fn)  # download the zip file\n",
        "print(\"Download complete. Please check the checksums\")"
      ],
      "execution_count": 12,
      "outputs": [
        {
          "output_type": "stream",
          "text": [
            "\n",
            "0it [00:00, ?it/s]\u001b[A"
          ],
          "name": "stderr"
        },
        {
          "output_type": "stream",
          "text": [
            "downloading images_01.tar.gz ...\n"
          ],
          "name": "stdout"
        },
        {
          "output_type": "stream",
          "text": [
            "\n",
            "1it [01:40, 100.69s/it]\u001b[A"
          ],
          "name": "stderr"
        },
        {
          "output_type": "stream",
          "text": [
            "downloading images_02.tar.gz ...\n"
          ],
          "name": "stdout"
        },
        {
          "output_type": "stream",
          "text": [
            "\n",
            "2it [05:08, 154.23s/it]"
          ],
          "name": "stderr"
        },
        {
          "output_type": "stream",
          "text": [
            "Download complete. Please check the checksums\n"
          ],
          "name": "stdout"
        },
        {
          "output_type": "stream",
          "text": [
            "\n"
          ],
          "name": "stderr"
        }
      ]
    },
    {
      "cell_type": "markdown",
      "metadata": {
        "id": "0Y6RHnAIKoG5"
      },
      "source": [
        "# Functions "
      ]
    },
    {
      "cell_type": "code",
      "metadata": {
        "id": "8X13zC0-JW_4"
      },
      "source": [
        "from glob import glob\r\n",
        "from glob import iglob\r\n",
        "import shutil\r\n",
        "import os\r\n",
        "import tarfile\r\n",
        "import pandas as pd\r\n",
        "import cv2\r\n",
        "from tqdm import tqdm\r\n",
        "import pickle\r\n",
        "\r\n",
        "def extract_tar_files():\r\n",
        "\r\n",
        "  os.mkdir('./Extracted_images')\r\n",
        "\r\n",
        "  for i in [\"%.2d\" % i for i in range(1,13)]:\r\n",
        "    tar = tarfile.open(\"images_{}.tar.gz\".format(i))\r\n",
        "    tar.extractall(\"Extracted_images\")\r\n",
        "    tar.close()\r\n",
        "    os.remove(\"/content/images_{}.tar.gz\".format(i))\r\n",
        "    print('Extraction of images_{}.tar.gz is Completed and current extracted image count is '.format(i),get_image_count('/content/Extracted_images/images/*'))\r\n",
        "\r\n",
        "def get_image_count(path):\r\n",
        "  folders = glob(path)\r\n",
        "  return len(folders)\r\n",
        "\r\n",
        "def build_project(classes):\r\n",
        "\r\n",
        "  # Create below Folder structure \r\n",
        "  # Capstone_Project \r\n",
        "  #    main ==> (16 classes subfolders)\r\n",
        "  #    data ==> All images\r\n",
        "\r\n",
        "  os.mkdir('./Capstone_Project')\r\n",
        "  os.mkdir('./Capstone_Project/main')\r\n",
        "  os.mkdir('/content/Capstone_Project/data')\r\n",
        "\r\n",
        "  # Create 16 subfolders in train and val for each class lables \r\n",
        "  for subfolder in classes:\r\n",
        "    os.mkdir('./Capstone_Project/main/{}'.format(subfolder))\r\n",
        "\r\n",
        "def load_orig_metadata(NIH_meta_path='/content/Metadata.csv',COVID19_meta_path='/content/covid-chestxray-dataset/metadata.csv'):\r\n",
        "\r\n",
        "  # Metadata from NIH \r\n",
        "\r\n",
        "  df_NIH=pd.read_csv(NIH_meta_path)[['Image Index','Finding Labels']]\r\n",
        "  df_NIH.rename(columns = {\"Finding Labels\": \"Labels\",\"Image Index\":\"Image_ID\"}, inplace = True) \r\n",
        "  print('NIH Data count = ', df_NIH.shape)\r\n",
        "\r\n",
        "  # Metadata for COVID19\r\n",
        "\r\n",
        "  !git clone https://github.com/ieee8023/covid-chestxray-dataset.git\r\n",
        "\r\n",
        "  df = pd.read_csv(COVID19_meta_path)\r\n",
        "  df['Finding Labels'] = 'Covid19'\r\n",
        "  df_covid19 = df[df['finding'] == 'Pneumonia/Viral/COVID-19'][['filename','Finding Labels']]\r\n",
        "  df_covid19.rename(columns = {\"Finding Labels\": \"Labels\",\"filename\":\"Image_ID\"}, inplace = True) \r\n",
        "  print('Covid19 Data count = ',df_covid19.shape)\r\n",
        "  meta_df = pd.concat([df_NIH, df_covid19])\r\n",
        "  meta_df.reset_index(inplace=True)\r\n",
        "  meta_df.drop('index',inplace=True, axis=1)\r\n",
        "\r\n",
        "  return(meta_df)\r\n",
        "  \r\n",
        "def sample_dataset(original_meta_df, sample_count, classes, original_dataset_base_path='/content/Extracted_images/images', sample_dataset_main_path='/content/Capstone_Project/main'):\r\n",
        "\r\n",
        "  for iid,lab in tqdm(original_meta_df.values):\r\n",
        "    if lab in classes:                                                                      # Only move images for selected classes\r\n",
        "      if '|' not in lab:                                                                    # Filter out only Single Label data\r\n",
        "        File = original_dataset_base_path + '/' + iid\r\n",
        "        if os.path.exists(File):                                                            # Move only if source file exists\r\n",
        "          if not os.path.exists(sample_dataset_main_path + '/' + lab + '/' + iid):          # if dest file already exists, dont move\r\n",
        "            if get_image_count(sample_dataset_main_path + '/' + lab + '/*') < sample_count: \r\n",
        "              shutil.copy(File, sample_dataset_main_path + '/' + lab + '/')\r\n",
        "  for sub in classes:\r\n",
        "    count = get_image_count(sample_dataset_main_path + '/{}/*'.format(sub))\r\n",
        "    print('Number of sampled images in {} is '.format(sub),count)\r\n",
        "\r\n",
        "def rename_images(classes,main_path='/content/Capstone_Project/main/'):\r\n",
        "  \r\n",
        "  for sub in os.listdir(r'/content/Capstone_Project/main/'):\r\n",
        "    if sub in classes:\r\n",
        "      if os.path.isdir(main_path + sub) and not sub.startswith('.'):\r\n",
        "        for filepath in iglob(r'/content/Capstone_Project/main/{}/*'.format(sub)):\r\n",
        "          old_name = os.path.basename(filepath)\r\n",
        "          new_name = '{}_'.format(sub) + old_name.replace(' ','_')\r\n",
        "          os.rename(main_path+sub+'/'+old_name,main_path+sub+'/'+new_name)\r\n",
        "  print('All images are renamed with its class as prefix')\r\n",
        "\r\n",
        "def build_metadata_dataframe(classes, main_path='/content/Capstone_Project/main/'):\r\n",
        "  \r\n",
        "  metadata_dict = {}\r\n",
        "  metadata_list = []\r\n",
        "  for sub in os.listdir(r'/content/Capstone_Project/main/'):\r\n",
        "    if sub in classes:\r\n",
        "      if os.path.isdir(main_path + sub) and not sub.startswith('.'):\r\n",
        "        for filepath in iglob(r'/content/Capstone_Project/main/{}/*'.format(sub)):\r\n",
        "          file_name = os.path.basename(filepath)\r\n",
        "          metadata_dict['image_id'] = file_name\r\n",
        "          metadata_dict['label'] = sub\r\n",
        "          metadata_list.append(metadata_dict)\r\n",
        "          metadata_dict = {}\r\n",
        "  return (pd.DataFrame(metadata_list))\r\n",
        "\r\n",
        "def load_data_for_split(classes, main_path='/content/Capstone_Project/main/', data_path='/content/Capstone_Project/data/'):\r\n",
        "\r\n",
        "  for sub in tqdm(os.listdir(r'/content/Capstone_Project/main/')):\r\n",
        "    if sub in classes:\r\n",
        "      if os.path.isdir(main_path + sub) and not sub.startswith('.'):\r\n",
        "        for filepath in iglob(r'/content/Capstone_Project/main/{}/*'.format(sub)):\r\n",
        "          shutil.copy(filepath, data_path) \r\n",
        "  print('Final Data is Ready and number of images in train folder is ',get_image_count(data_path + '*'))\r\n",
        "\r\n",
        "def convert_images_to_array(final_metadata_dataframe, image_size=224, data_path='/content/Capstone_Project/data/'):\r\n",
        "\r\n",
        "  x_features=[]\r\n",
        "  y_features=[]\r\n",
        "  \r\n",
        "  for iid,lab in tqdm(final_metadata_dataframe.values):\r\n",
        "    img=cv2.imread((data_path + iid),1)\r\n",
        "    img_resize=cv2.resize(img,(image_size,image_size))\r\n",
        "    x_features.append(img_resize)\r\n",
        "    y_features.append(lab)\r\n",
        "\r\n",
        "  return (x_features,y_features)\r\n",
        "\r\n",
        "def sample_existing_dataset(original_meta_df, sample_count_to_keep, classes, sample_dataset_main_path='/content/Capstone_Project/main'):\r\n",
        "\r\n",
        "  for iid,lab in tqdm(original_meta_df.values):\r\n",
        "    if lab in classes:                                                                      # Only move images for selected classes\r\n",
        "      if '|' not in lab:                                                                    # Filter out only Single Label data\r\n",
        "          if os.path.exists(sample_dataset_main_path + '/' + lab + '/' + lab + '_' + iid):              # if dest file already exists, then only remove\r\n",
        "            if get_image_count(sample_dataset_main_path + '/' + lab + '/*') != sample_count_to_keep: \r\n",
        "              os.remove(sample_dataset_main_path + '/' + lab + '/' + lab + '_' + iid)\r\n",
        "  for sub in classes:\r\n",
        "    count = get_image_count(sample_dataset_main_path + '/{}/*'.format(sub))\r\n",
        "    print('Number of sampled images in {} is '.format(sub),count)\r\n",
        "\r\n",
        "def convert_images_to_array_with_3classes(classes, final_metadata_dataframe, image_size=224, data_path='/content/Capstone_Project/data/'):\r\n",
        "\r\n",
        "  x_features=[]\r\n",
        "  y_features=[]\r\n",
        "  \r\n",
        "  for iid,lab in tqdm(final_metadata_dataframe.values):\r\n",
        "    img=cv2.imread((data_path + iid),1)\r\n",
        "    img_resize=cv2.resize(img,(image_size,image_size))\r\n",
        "    x_features.append(img_resize)\r\n",
        "    if lab in classes:\r\n",
        "      lab = 'other_pathology'\r\n",
        "      y_features.append(lab)\r\n",
        "    else:\r\n",
        "      y_features.append(lab)\r\n",
        "\r\n",
        "  return (x_features,y_features)"
      ],
      "execution_count": 24,
      "outputs": []
    },
    {
      "cell_type": "markdown",
      "metadata": {
        "id": "Mc_VZijJVTwc"
      },
      "source": [
        "# 12 Tar files extraction"
      ]
    },
    {
      "cell_type": "code",
      "metadata": {
        "colab": {
          "base_uri": "https://localhost:8080/"
        },
        "id": "eWu-3vFeTKqS",
        "outputId": "714cdcfb-074d-4a6a-c89b-3953205ce82a"
      },
      "source": [
        "extract_tar_files()"
      ],
      "execution_count": 15,
      "outputs": [
        {
          "output_type": "stream",
          "text": [
            "Extraction of images_01.tar.gz is Completed and current extracted image count is  4999\n",
            "Extraction of images_02.tar.gz is Completed and current extracted image count is  14999\n",
            "Extraction of images_03.tar.gz is Completed and current extracted image count is  24999\n",
            "Extraction of images_04.tar.gz is Completed and current extracted image count is  34999\n",
            "Extraction of images_05.tar.gz is Completed and current extracted image count is  44999\n",
            "Extraction of images_06.tar.gz is Completed and current extracted image count is  54999\n",
            "Extraction of images_07.tar.gz is Completed and current extracted image count is  64999\n",
            "Extraction of images_08.tar.gz is Completed and current extracted image count is  74999\n",
            "Extraction of images_09.tar.gz is Completed and current extracted image count is  84999\n",
            "Extraction of images_10.tar.gz is Completed and current extracted image count is  94999\n",
            "Extraction of images_11.tar.gz is Completed and current extracted image count is  104999\n",
            "Extraction of images_12.tar.gz is Completed and current extracted image count is  112120\n"
          ],
          "name": "stdout"
        }
      ]
    },
    {
      "cell_type": "markdown",
      "metadata": {
        "id": "UzuJv-WLVcME"
      },
      "source": [
        "# Building Project Directory"
      ]
    },
    {
      "cell_type": "code",
      "metadata": {
        "id": "Qk392Yb5hgEf"
      },
      "source": [
        "classes = ['Atelectasis', 'Cardiomegaly', 'Effusion', 'Infiltration', 'Mass', 'Nodule', 'Pneumonia', 'Pneumothorax', 'Consolidation', 'Edema', 'Emphysema', 'Fibrosis', 'Pleural_Thickening', 'Hernia','Covid19','No Finding']\r\n",
        "#classes = ['Covid19','No Finding']"
      ],
      "execution_count": 16,
      "outputs": []
    },
    {
      "cell_type": "code",
      "metadata": {
        "id": "nUeaSiyfhp83"
      },
      "source": [
        "build_project(classes)"
      ],
      "execution_count": 17,
      "outputs": []
    },
    {
      "cell_type": "markdown",
      "metadata": {
        "id": "el-XBQ8Sbmga"
      },
      "source": [
        "# Data Sampling"
      ]
    },
    {
      "cell_type": "markdown",
      "metadata": {
        "id": "lt8JXWzwUtPq"
      },
      "source": [
        "# Load Original Metadata csv files"
      ]
    },
    {
      "cell_type": "code",
      "metadata": {
        "id": "_zjhvBmYiMOR",
        "colab": {
          "base_uri": "https://localhost:8080/",
          "height": 333
        },
        "outputId": "c57852b8-deb2-432c-b9d4-91fcaf36e0c9"
      },
      "source": [
        "original_meta_df = load_orig_metadata(NIH_meta_path='/content/Metadata.csv',COVID19_meta_path='/content/covid-chestxray-dataset/metadata.csv')\n",
        "original_meta_df.tail()"
      ],
      "execution_count": 18,
      "outputs": [
        {
          "output_type": "stream",
          "text": [
            "NIH Data count =  (112120, 2)\n",
            "Cloning into 'covid-chestxray-dataset'...\n",
            "remote: Enumerating objects: 3629, done.\u001b[K\n",
            "remote: Total 3629 (delta 0), reused 0 (delta 0), pack-reused 3629\u001b[K\n",
            "Receiving objects: 100% (3629/3629), 632.96 MiB | 36.11 MiB/s, done.\n",
            "Resolving deltas: 100% (1442/1442), done.\n",
            "Checking out files: 100% (1173/1173), done.\n",
            "Covid19 Data count =  (584, 2)\n"
          ],
          "name": "stdout"
        },
        {
          "output_type": "execute_result",
          "data": {
            "text/html": [
              "<div>\n",
              "<style scoped>\n",
              "    .dataframe tbody tr th:only-of-type {\n",
              "        vertical-align: middle;\n",
              "    }\n",
              "\n",
              "    .dataframe tbody tr th {\n",
              "        vertical-align: top;\n",
              "    }\n",
              "\n",
              "    .dataframe thead th {\n",
              "        text-align: right;\n",
              "    }\n",
              "</style>\n",
              "<table border=\"1\" class=\"dataframe\">\n",
              "  <thead>\n",
              "    <tr style=\"text-align: right;\">\n",
              "      <th></th>\n",
              "      <th>Image_ID</th>\n",
              "      <th>Labels</th>\n",
              "    </tr>\n",
              "  </thead>\n",
              "  <tbody>\n",
              "    <tr>\n",
              "      <th>112699</th>\n",
              "      <td>2edb88df42cab5e5fbc18b3965e0bd_jumbo.jpeg</td>\n",
              "      <td>Covid19</td>\n",
              "    </tr>\n",
              "    <tr>\n",
              "      <th>112700</th>\n",
              "      <td>16858_1_1.png</td>\n",
              "      <td>Covid19</td>\n",
              "    </tr>\n",
              "    <tr>\n",
              "      <th>112701</th>\n",
              "      <td>16858_3_1.png</td>\n",
              "      <td>Covid19</td>\n",
              "    </tr>\n",
              "    <tr>\n",
              "      <th>112702</th>\n",
              "      <td>16865_1_1.jpg</td>\n",
              "      <td>Covid19</td>\n",
              "    </tr>\n",
              "    <tr>\n",
              "      <th>112703</th>\n",
              "      <td>16865_1_2.jpg</td>\n",
              "      <td>Covid19</td>\n",
              "    </tr>\n",
              "  </tbody>\n",
              "</table>\n",
              "</div>"
            ],
            "text/plain": [
              "                                         Image_ID   Labels\n",
              "112699  2edb88df42cab5e5fbc18b3965e0bd_jumbo.jpeg  Covid19\n",
              "112700                              16858_1_1.png  Covid19\n",
              "112701                              16858_3_1.png  Covid19\n",
              "112702                              16865_1_1.jpg  Covid19\n",
              "112703                              16865_1_2.jpg  Covid19"
            ]
          },
          "metadata": {
            "tags": []
          },
          "execution_count": 18
        }
      ]
    },
    {
      "cell_type": "code",
      "metadata": {
        "colab": {
          "base_uri": "https://localhost:8080/"
        },
        "id": "8xRjmiL2nPtg",
        "outputId": "1a1b1e9c-82c8-4037-ffc7-613435d325fa"
      },
      "source": [
        "original_meta_df.shape "
      ],
      "execution_count": 19,
      "outputs": [
        {
          "output_type": "execute_result",
          "data": {
            "text/plain": [
              "(112704, 2)"
            ]
          },
          "metadata": {
            "tags": []
          },
          "execution_count": 19
        }
      ]
    },
    {
      "cell_type": "code",
      "metadata": {
        "id": "BzfQkVa44rI6"
      },
      "source": [
        "original_meta_df.to_csv('original_meta_data.csv')"
      ],
      "execution_count": 20,
      "outputs": []
    },
    {
      "cell_type": "markdown",
      "metadata": {
        "id": "puLY3AB204qm"
      },
      "source": [
        "# Sampling NIH and Covid19 data"
      ]
    },
    {
      "cell_type": "code",
      "metadata": {
        "colab": {
          "base_uri": "https://localhost:8080/"
        },
        "id": "mDLvWrp8luf2",
        "outputId": "2dae78c8-6761-4c00-f8c4-3d8ee12c9a3b"
      },
      "source": [
        "sample_dataset(original_meta_df, 500, classes, original_dataset_base_path='/content/Extracted_images/images')\r\n",
        "covid_class = ['Covid19']\r\n",
        "sample_dataset(original_meta_df, 500, covid_class, original_dataset_base_path='/content/covid-chestxray-dataset/images')"
      ],
      "execution_count": 22,
      "outputs": [
        {
          "output_type": "stream",
          "text": [
            "\n",
            " 99%|█████████▉| 112004/112704 [04:13<00:01, 583.93it/s]\u001b[A\n",
            " 99%|█████████▉| 112065/112704 [04:13<00:01, 563.55it/s]\u001b[A\n",
            "100%|██████████| 112704/112704 [04:13<00:00, 444.20it/s]\n",
            "\n",
            "  0%|          | 0/112704 [00:00<?, ?it/s]\u001b[A\n",
            " 35%|███▌      | 39738/112704 [00:00<00:00, 397376.59it/s]\u001b[A"
          ],
          "name": "stderr"
        },
        {
          "output_type": "stream",
          "text": [
            "Number of sampled images in Atelectasis is  500\n",
            "Number of sampled images in Cardiomegaly is  500\n",
            "Number of sampled images in Effusion is  500\n",
            "Number of sampled images in Infiltration is  500\n",
            "Number of sampled images in Mass is  500\n",
            "Number of sampled images in Nodule is  500\n",
            "Number of sampled images in Pneumonia is  322\n",
            "Number of sampled images in Pneumothorax is  500\n",
            "Number of sampled images in Consolidation is  500\n",
            "Number of sampled images in Edema is  500\n",
            "Number of sampled images in Emphysema is  500\n",
            "Number of sampled images in Fibrosis is  500\n",
            "Number of sampled images in Pleural_Thickening is  500\n",
            "Number of sampled images in Hernia is  110\n",
            "Number of sampled images in Covid19 is  500\n",
            "Number of sampled images in No Finding is  500\n"
          ],
          "name": "stdout"
        },
        {
          "output_type": "stream",
          "text": [
            "\n",
            " 72%|███████▏  | 81584/112704 [00:00<00:00, 403474.11it/s]\u001b[A\n",
            "100%|██████████| 112704/112704 [00:00<00:00, 276499.15it/s]"
          ],
          "name": "stderr"
        },
        {
          "output_type": "stream",
          "text": [
            "Number of sampled images in Covid19 is  500\n"
          ],
          "name": "stdout"
        },
        {
          "output_type": "stream",
          "text": [
            "\n"
          ],
          "name": "stderr"
        }
      ]
    },
    {
      "cell_type": "markdown",
      "metadata": {
        "id": "C-UpgwCaseS8"
      },
      "source": [
        "# Renaming images"
      ]
    },
    {
      "cell_type": "code",
      "metadata": {
        "colab": {
          "base_uri": "https://localhost:8080/"
        },
        "id": "N1gxX1w3scPI",
        "outputId": "386071cb-d4de-49df-8501-f542be6fa80c"
      },
      "source": [
        "rename_images(classes,main_path='/content/Capstone_Project/main/')"
      ],
      "execution_count": 25,
      "outputs": [
        {
          "output_type": "stream",
          "text": [
            "All images are renamed with its class as prefix\n"
          ],
          "name": "stdout"
        }
      ]
    },
    {
      "cell_type": "markdown",
      "metadata": {
        "id": "lmxkgVgatBSu"
      },
      "source": [
        "# Build Final Metadata Dataframe"
      ]
    },
    {
      "cell_type": "code",
      "metadata": {
        "id": "yeQdHgOBtHKc"
      },
      "source": [
        "final_meta_df = build_metadata_dataframe(classes, main_path='/content/Capstone_Project/main/')"
      ],
      "execution_count": 26,
      "outputs": []
    },
    {
      "cell_type": "code",
      "metadata": {
        "colab": {
          "base_uri": "https://localhost:8080/"
        },
        "id": "uJGGueTgvV9-",
        "outputId": "8c75e460-aa26-4541-d8cd-f9abc2f672f5"
      },
      "source": [
        "print(final_meta_df.shape)\r\n",
        "final_meta_df['label'].value_counts()"
      ],
      "execution_count": 27,
      "outputs": [
        {
          "output_type": "stream",
          "text": [
            "(7432, 2)\n"
          ],
          "name": "stdout"
        },
        {
          "output_type": "execute_result",
          "data": {
            "text/plain": [
              "Covid19               500\n",
              "Atelectasis           500\n",
              "No Finding            500\n",
              "Effusion              500\n",
              "Edema                 500\n",
              "Nodule                500\n",
              "Cardiomegaly          500\n",
              "Pneumothorax          500\n",
              "Consolidation         500\n",
              "Infiltration          500\n",
              "Mass                  500\n",
              "Pleural_Thickening    500\n",
              "Emphysema             500\n",
              "Fibrosis              500\n",
              "Pneumonia             322\n",
              "Hernia                110\n",
              "Name: label, dtype: int64"
            ]
          },
          "metadata": {
            "tags": []
          },
          "execution_count": 27
        }
      ]
    },
    {
      "cell_type": "code",
      "metadata": {
        "id": "812Xe--tu1TH"
      },
      "source": [
        "final_meta_df.to_csv('final_meta_data.csv')"
      ],
      "execution_count": 28,
      "outputs": []
    },
    {
      "cell_type": "markdown",
      "metadata": {
        "id": "zL8ead87xwy4"
      },
      "source": [
        "# Copy all images to /content/Capstone_Project/data/"
      ]
    },
    {
      "cell_type": "code",
      "metadata": {
        "colab": {
          "base_uri": "https://localhost:8080/"
        },
        "id": "Uj3AjskfuT0b",
        "outputId": "37d5abe8-fcfc-483b-8d96-8e25a9d95f80"
      },
      "source": [
        "load_data_for_split(classes, main_path='/content/Capstone_Project/main/', data_path='/content/Capstone_Project/data/')"
      ],
      "execution_count": 29,
      "outputs": [
        {
          "output_type": "stream",
          "text": [
            "\n",
            "  0%|          | 0/16 [00:00<?, ?it/s]\u001b[A\n",
            "  6%|▋         | 1/16 [00:00<00:07,  2.03it/s]\u001b[A\n",
            " 12%|█▎        | 2/16 [00:01<00:07,  1.85it/s]\u001b[A\n",
            " 19%|█▉        | 3/16 [00:03<00:12,  1.05it/s]\u001b[A\n",
            " 25%|██▌       | 4/16 [00:03<00:10,  1.15it/s]\u001b[A\n",
            " 31%|███▏      | 5/16 [00:04<00:09,  1.13it/s]\u001b[A\n",
            " 38%|███▊      | 6/16 [00:05<00:09,  1.03it/s]\u001b[A\n",
            " 44%|████▍     | 7/16 [00:07<00:09,  1.05s/it]\u001b[A\n",
            " 50%|█████     | 8/16 [00:09<00:10,  1.33s/it]\u001b[A\n",
            " 56%|█████▋    | 9/16 [00:09<00:07,  1.03s/it]\u001b[A\n",
            " 62%|██████▎   | 10/16 [00:11<00:08,  1.49s/it]\u001b[A\n",
            " 69%|██████▉   | 11/16 [00:16<00:11,  2.26s/it]\u001b[A\n",
            " 75%|███████▌  | 12/16 [00:17<00:08,  2.01s/it]\u001b[A\n",
            " 81%|████████▏ | 13/16 [00:19<00:05,  1.97s/it]\u001b[A\n",
            " 88%|████████▊ | 14/16 [00:28<00:08,  4.04s/it]\u001b[A\n",
            " 94%|█████████▍| 15/16 [00:28<00:03,  3.08s/it]\u001b[A\n",
            "100%|██████████| 16/16 [00:34<00:00,  2.13s/it]"
          ],
          "name": "stderr"
        },
        {
          "output_type": "stream",
          "text": [
            "Final Data is Ready and number of images in train folder is  7432\n"
          ],
          "name": "stdout"
        },
        {
          "output_type": "stream",
          "text": [
            "\n"
          ],
          "name": "stderr"
        }
      ]
    },
    {
      "cell_type": "markdown",
      "metadata": {
        "id": "ZhG0qJQwxq9z"
      },
      "source": [
        "# Convert Images to array "
      ]
    },
    {
      "cell_type": "code",
      "metadata": {
        "id": "cJUIiRPYv-EB"
      },
      "source": [
        "x_features,y_features = convert_images_to_array(final_meta_df, 128, data_path='/content/Capstone_Project/data/')"
      ],
      "execution_count": null,
      "outputs": []
    },
    {
      "cell_type": "code",
      "metadata": {
        "id": "8VNWT4mZvjAf"
      },
      "source": [
        "pickle.dump(x_features,open('x_features.pkl','wb'))\r\n",
        "pickle.dump(y_features,open('y_features.pkl','wb'))"
      ],
      "execution_count": 31,
      "outputs": []
    },
    {
      "cell_type": "markdown",
      "metadata": {
        "id": "19POMgwzXKdG"
      },
      "source": [
        "# EDA - \n",
        "+ Countplot for class distribution\n",
        "+ Distribution of area within images using histogram \n",
        "+ Plotting Boxes around Images\n",
        "+ Comparison of all class images with normal images"
      ]
    },
    {
      "cell_type": "code",
      "metadata": {
        "id": "PA3sCbU1XNMb",
        "colab": {
          "base_uri": "https://localhost:8080/",
          "height": 197
        },
        "outputId": "8b119f12-610f-4f64-e59b-ae8bffbc0e09"
      },
      "source": [
        "original_meta_df.head()"
      ],
      "execution_count": 32,
      "outputs": [
        {
          "output_type": "execute_result",
          "data": {
            "text/html": [
              "<div>\n",
              "<style scoped>\n",
              "    .dataframe tbody tr th:only-of-type {\n",
              "        vertical-align: middle;\n",
              "    }\n",
              "\n",
              "    .dataframe tbody tr th {\n",
              "        vertical-align: top;\n",
              "    }\n",
              "\n",
              "    .dataframe thead th {\n",
              "        text-align: right;\n",
              "    }\n",
              "</style>\n",
              "<table border=\"1\" class=\"dataframe\">\n",
              "  <thead>\n",
              "    <tr style=\"text-align: right;\">\n",
              "      <th></th>\n",
              "      <th>Image_ID</th>\n",
              "      <th>Labels</th>\n",
              "    </tr>\n",
              "  </thead>\n",
              "  <tbody>\n",
              "    <tr>\n",
              "      <th>0</th>\n",
              "      <td>00000001_000.png</td>\n",
              "      <td>Cardiomegaly</td>\n",
              "    </tr>\n",
              "    <tr>\n",
              "      <th>1</th>\n",
              "      <td>00000001_001.png</td>\n",
              "      <td>Cardiomegaly|Emphysema</td>\n",
              "    </tr>\n",
              "    <tr>\n",
              "      <th>2</th>\n",
              "      <td>00000001_002.png</td>\n",
              "      <td>Cardiomegaly|Effusion</td>\n",
              "    </tr>\n",
              "    <tr>\n",
              "      <th>3</th>\n",
              "      <td>00000002_000.png</td>\n",
              "      <td>No Finding</td>\n",
              "    </tr>\n",
              "    <tr>\n",
              "      <th>4</th>\n",
              "      <td>00000003_001.png</td>\n",
              "      <td>Hernia</td>\n",
              "    </tr>\n",
              "  </tbody>\n",
              "</table>\n",
              "</div>"
            ],
            "text/plain": [
              "           Image_ID                  Labels\n",
              "0  00000001_000.png            Cardiomegaly\n",
              "1  00000001_001.png  Cardiomegaly|Emphysema\n",
              "2  00000001_002.png   Cardiomegaly|Effusion\n",
              "3  00000002_000.png              No Finding\n",
              "4  00000003_001.png                  Hernia"
            ]
          },
          "metadata": {
            "tags": []
          },
          "execution_count": 32
        }
      ]
    },
    {
      "cell_type": "code",
      "metadata": {
        "id": "TXrABEUO0hNs",
        "colab": {
          "base_uri": "https://localhost:8080/"
        },
        "outputId": "ec2c5eb2-2936-4358-e0a8-2e7d913a65bf"
      },
      "source": [
        "original_meta_df[original_meta_df['Labels'].apply(lambda x: '|' not in x)]['Labels'].value_counts()"
      ],
      "execution_count": 33,
      "outputs": [
        {
          "output_type": "execute_result",
          "data": {
            "text/plain": [
              "No Finding            60361\n",
              "Infiltration           9547\n",
              "Atelectasis            4215\n",
              "Effusion               3955\n",
              "Nodule                 2705\n",
              "Pneumothorax           2194\n",
              "Mass                   2139\n",
              "Consolidation          1310\n",
              "Pleural_Thickening     1126\n",
              "Cardiomegaly           1093\n",
              "Emphysema               892\n",
              "Fibrosis                727\n",
              "Edema                   628\n",
              "Covid19                 584\n",
              "Pneumonia               322\n",
              "Hernia                  110\n",
              "Name: Labels, dtype: int64"
            ]
          },
          "metadata": {
            "tags": []
          },
          "execution_count": 33
        }
      ]
    },
    {
      "cell_type": "markdown",
      "metadata": {
        "id": "PRJaYJay8EXk"
      },
      "source": [
        "# Data Distribution after sampling"
      ]
    },
    {
      "cell_type": "code",
      "metadata": {
        "id": "z2FcTsJ61pU7",
        "colab": {
          "base_uri": "https://localhost:8080/",
          "height": 197
        },
        "outputId": "1c5f8933-dc32-4fb2-826a-77d358e253ee"
      },
      "source": [
        "final_meta_df.head()"
      ],
      "execution_count": 34,
      "outputs": [
        {
          "output_type": "execute_result",
          "data": {
            "text/html": [
              "<div>\n",
              "<style scoped>\n",
              "    .dataframe tbody tr th:only-of-type {\n",
              "        vertical-align: middle;\n",
              "    }\n",
              "\n",
              "    .dataframe tbody tr th {\n",
              "        vertical-align: top;\n",
              "    }\n",
              "\n",
              "    .dataframe thead th {\n",
              "        text-align: right;\n",
              "    }\n",
              "</style>\n",
              "<table border=\"1\" class=\"dataframe\">\n",
              "  <thead>\n",
              "    <tr style=\"text-align: right;\">\n",
              "      <th></th>\n",
              "      <th>image_id</th>\n",
              "      <th>label</th>\n",
              "    </tr>\n",
              "  </thead>\n",
              "  <tbody>\n",
              "    <tr>\n",
              "      <th>0</th>\n",
              "      <td>Edema_00016410_012.png</td>\n",
              "      <td>Edema</td>\n",
              "    </tr>\n",
              "    <tr>\n",
              "      <th>1</th>\n",
              "      <td>Edema_00016406_002.png</td>\n",
              "      <td>Edema</td>\n",
              "    </tr>\n",
              "    <tr>\n",
              "      <th>2</th>\n",
              "      <td>Edema_00001736_027.png</td>\n",
              "      <td>Edema</td>\n",
              "    </tr>\n",
              "    <tr>\n",
              "      <th>3</th>\n",
              "      <td>Edema_00017424_028.png</td>\n",
              "      <td>Edema</td>\n",
              "    </tr>\n",
              "    <tr>\n",
              "      <th>4</th>\n",
              "      <td>Edema_00016410_009.png</td>\n",
              "      <td>Edema</td>\n",
              "    </tr>\n",
              "  </tbody>\n",
              "</table>\n",
              "</div>"
            ],
            "text/plain": [
              "                 image_id  label\n",
              "0  Edema_00016410_012.png  Edema\n",
              "1  Edema_00016406_002.png  Edema\n",
              "2  Edema_00001736_027.png  Edema\n",
              "3  Edema_00017424_028.png  Edema\n",
              "4  Edema_00016410_009.png  Edema"
            ]
          },
          "metadata": {
            "tags": []
          },
          "execution_count": 34
        }
      ]
    },
    {
      "cell_type": "code",
      "metadata": {
        "colab": {
          "base_uri": "https://localhost:8080/",
          "height": 525
        },
        "id": "JisLWs7jyrfH",
        "outputId": "c2943575-5a01-48a8-fe44-3555de5e019d"
      },
      "source": [
        "count_df = pd.DataFrame(final_meta_df['label'].value_counts())\r\n",
        "count_df.reset_index(inplace=True)\r\n",
        "count_df.rename(columns = {'index':'pathology', 'label':'count'},inplace=True)\r\n",
        "count_df"
      ],
      "execution_count": 35,
      "outputs": [
        {
          "output_type": "execute_result",
          "data": {
            "text/html": [
              "<div>\n",
              "<style scoped>\n",
              "    .dataframe tbody tr th:only-of-type {\n",
              "        vertical-align: middle;\n",
              "    }\n",
              "\n",
              "    .dataframe tbody tr th {\n",
              "        vertical-align: top;\n",
              "    }\n",
              "\n",
              "    .dataframe thead th {\n",
              "        text-align: right;\n",
              "    }\n",
              "</style>\n",
              "<table border=\"1\" class=\"dataframe\">\n",
              "  <thead>\n",
              "    <tr style=\"text-align: right;\">\n",
              "      <th></th>\n",
              "      <th>pathology</th>\n",
              "      <th>count</th>\n",
              "    </tr>\n",
              "  </thead>\n",
              "  <tbody>\n",
              "    <tr>\n",
              "      <th>0</th>\n",
              "      <td>Covid19</td>\n",
              "      <td>500</td>\n",
              "    </tr>\n",
              "    <tr>\n",
              "      <th>1</th>\n",
              "      <td>Atelectasis</td>\n",
              "      <td>500</td>\n",
              "    </tr>\n",
              "    <tr>\n",
              "      <th>2</th>\n",
              "      <td>No Finding</td>\n",
              "      <td>500</td>\n",
              "    </tr>\n",
              "    <tr>\n",
              "      <th>3</th>\n",
              "      <td>Effusion</td>\n",
              "      <td>500</td>\n",
              "    </tr>\n",
              "    <tr>\n",
              "      <th>4</th>\n",
              "      <td>Edema</td>\n",
              "      <td>500</td>\n",
              "    </tr>\n",
              "    <tr>\n",
              "      <th>5</th>\n",
              "      <td>Nodule</td>\n",
              "      <td>500</td>\n",
              "    </tr>\n",
              "    <tr>\n",
              "      <th>6</th>\n",
              "      <td>Cardiomegaly</td>\n",
              "      <td>500</td>\n",
              "    </tr>\n",
              "    <tr>\n",
              "      <th>7</th>\n",
              "      <td>Pneumothorax</td>\n",
              "      <td>500</td>\n",
              "    </tr>\n",
              "    <tr>\n",
              "      <th>8</th>\n",
              "      <td>Consolidation</td>\n",
              "      <td>500</td>\n",
              "    </tr>\n",
              "    <tr>\n",
              "      <th>9</th>\n",
              "      <td>Infiltration</td>\n",
              "      <td>500</td>\n",
              "    </tr>\n",
              "    <tr>\n",
              "      <th>10</th>\n",
              "      <td>Mass</td>\n",
              "      <td>500</td>\n",
              "    </tr>\n",
              "    <tr>\n",
              "      <th>11</th>\n",
              "      <td>Pleural_Thickening</td>\n",
              "      <td>500</td>\n",
              "    </tr>\n",
              "    <tr>\n",
              "      <th>12</th>\n",
              "      <td>Emphysema</td>\n",
              "      <td>500</td>\n",
              "    </tr>\n",
              "    <tr>\n",
              "      <th>13</th>\n",
              "      <td>Fibrosis</td>\n",
              "      <td>500</td>\n",
              "    </tr>\n",
              "    <tr>\n",
              "      <th>14</th>\n",
              "      <td>Pneumonia</td>\n",
              "      <td>322</td>\n",
              "    </tr>\n",
              "    <tr>\n",
              "      <th>15</th>\n",
              "      <td>Hernia</td>\n",
              "      <td>110</td>\n",
              "    </tr>\n",
              "  </tbody>\n",
              "</table>\n",
              "</div>"
            ],
            "text/plain": [
              "             pathology  count\n",
              "0              Covid19    500\n",
              "1          Atelectasis    500\n",
              "2           No Finding    500\n",
              "3             Effusion    500\n",
              "4                Edema    500\n",
              "5               Nodule    500\n",
              "6         Cardiomegaly    500\n",
              "7         Pneumothorax    500\n",
              "8        Consolidation    500\n",
              "9         Infiltration    500\n",
              "10                Mass    500\n",
              "11  Pleural_Thickening    500\n",
              "12           Emphysema    500\n",
              "13            Fibrosis    500\n",
              "14           Pneumonia    322\n",
              "15              Hernia    110"
            ]
          },
          "metadata": {
            "tags": []
          },
          "execution_count": 35
        }
      ]
    },
    {
      "cell_type": "code",
      "metadata": {
        "id": "uQrO_AOB4NXB",
        "colab": {
          "base_uri": "https://localhost:8080/",
          "height": 313
        },
        "outputId": "971ec707-b3c6-409d-eee7-1c2b362f326a"
      },
      "source": [
        "import matplotlib.pyplot as plt\n",
        "import seaborn as sns\n",
        "ax = sns.barplot(x=\"pathology\", y='count',data=count_df)\n",
        "\n",
        "ax.set_xticklabels(ax.get_xticklabels(), rotation=40, ha=\"right\")\n",
        "plt.tight_layout()\n",
        "plt.figure(figsize=(8,4))\n",
        "plt.show()"
      ],
      "execution_count": 36,
      "outputs": [
        {
          "output_type": "display_data",
          "data": {
            "image/png": "[encoded data removed]",
            "text/plain": [
              "<Figure size 432x288 with 1 Axes>"
            ]
          },
          "metadata": {
            "tags": [],
            "needs_background": "light"
          }
        },
        {
          "output_type": "display_data",
          "data": {
            "text/plain": [
              "<Figure size 576x288 with 0 Axes>"
            ]
          },
          "metadata": {
            "tags": []
          }
        }
      ]
    },
    {
      "cell_type": "markdown",
      "metadata": {
        "id": "B-ijIUTyJjgR"
      },
      "source": [
        "# Delete folder/subfolders"
      ]
    },
    {
      "cell_type": "code",
      "metadata": {
        "id": "ETd5dH25k18C"
      },
      "source": [
        "#shutil.rmtree('/content/Capstone_Project/main')\r\n",
        "#shutil.rmtree('/content/Capstone_Project/data')\r\n",
        "#shutil.rmtree('/content/Extracted_images')\r\n",
        "#shutil.rmtree('/content/drive/MyDrive/Capstone_Project/Dataset_250_Images')\r\n",
        "#shutil.rmtree('/content/Capstone_Project')\r\n",
        "#shutil.rmtree('/content/covid-chestxray-dataset')\r\n",
        "\r\n",
        "#shutil.rmtree('/content/Capstone_Project/main/Covid19')\r\n",
        "#shutil.rmtree('/content/Capstone_Project/main/No Finding')\r\n",
        "#shutil.rmtree('/content/Capstone_Project/data')\r\n",
        "#shutil.rmtree('/content/covid-chestxray-dataset')"
      ],
      "execution_count": 13,
      "outputs": []
    },
    {
      "cell_type": "markdown",
      "metadata": {
        "id": "R0K9uplRn_LZ"
      },
      "source": [
        "# 3 Class data preparation"
      ]
    },
    {
      "cell_type": "code",
      "metadata": {
        "id": "X1DlVomOPMqZ"
      },
      "source": [
        "#classes = ['Atelectasis', 'Cardiomegaly', 'Effusion', 'Infiltration', 'Mass', 'Nodule', 'Pneumonia', 'Pneumothorax', 'Consolidation', 'Edema', 'Emphysema', 'Fibrosis', 'Pleural_Thickening', 'Hernia']"
      ],
      "execution_count": null,
      "outputs": []
    },
    {
      "cell_type": "code",
      "metadata": {
        "colab": {
          "base_uri": "https://localhost:8080/"
        },
        "id": "hiTGlY8qKBrG",
        "outputId": "0081ba38-a9aa-4fbd-9369-57301e1f04d3"
      },
      "source": [
        "#sample_existing_dataset(original_meta_df, 36, classes)"
      ],
      "execution_count": null,
      "outputs": [
        {
          "output_type": "stream",
          "text": [
            "100%|██████████| 112704/112704 [00:05<00:00, 18788.22it/s]"
          ],
          "name": "stderr"
        },
        {
          "output_type": "stream",
          "text": [
            "Number of sampled images in Atelectasis is  36\n",
            "Number of sampled images in Cardiomegaly is  36\n",
            "Number of sampled images in Effusion is  36\n",
            "Number of sampled images in Infiltration is  36\n",
            "Number of sampled images in Mass is  36\n",
            "Number of sampled images in Nodule is  36\n",
            "Number of sampled images in Pneumonia is  36\n",
            "Number of sampled images in Pneumothorax is  36\n",
            "Number of sampled images in Consolidation is  36\n",
            "Number of sampled images in Edema is  36\n",
            "Number of sampled images in Emphysema is  36\n",
            "Number of sampled images in Fibrosis is  36\n",
            "Number of sampled images in Pleural_Thickening is  36\n",
            "Number of sampled images in Hernia is  36\n"
          ],
          "name": "stdout"
        },
        {
          "output_type": "stream",
          "text": [
            "\n"
          ],
          "name": "stderr"
        }
      ]
    },
    {
      "cell_type": "code",
      "metadata": {
        "colab": {
          "base_uri": "https://localhost:8080/"
        },
        "id": "9z9owKNQPIvd",
        "outputId": "3452575c-aec2-434f-d05c-16908e8e0497"
      },
      "source": [
        "#x_features, y_features = convert_images_to_array_with_3classes(classes, final_meta_df, image_size=224)"
      ],
      "execution_count": null,
      "outputs": [
        {
          "output_type": "stream",
          "text": [
            "100%|██████████| 1504/1504 [00:35<00:00, 42.77it/s]\n"
          ],
          "name": "stderr"
        }
      ]
    },
    {
      "cell_type": "code",
      "metadata": {
        "colab": {
          "base_uri": "https://localhost:8080/"
        },
        "id": "CbBzWSYcQxid",
        "outputId": "a26eb879-c100-4fe3-b11a-849d7a604a5f"
      },
      "source": [
        "#set(y_features)"
      ],
      "execution_count": null,
      "outputs": [
        {
          "output_type": "execute_result",
          "data": {
            "text/plain": [
              "{'Covid19', 'No Finding', 'others'}"
            ]
          },
          "metadata": {
            "tags": []
          },
          "execution_count": 196
        }
      ]
    },
    {
      "cell_type": "code",
      "metadata": {
        "id": "DrWgGjOYP2LL"
      },
      "source": [
        "pickle.dump(x_features,open('x_features.pkl','wb'))\r\n",
        "pickle.dump(y_features,open('y_features.pkl','wb'))"
      ],
      "execution_count": null,
      "outputs": []
    }
  ]
}